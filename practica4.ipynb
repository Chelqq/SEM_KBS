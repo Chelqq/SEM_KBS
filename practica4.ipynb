{
 "cells": [
  {
   "cell_type": "code",
   "execution_count": 65,
   "metadata": {},
   "outputs": [],
   "source": [
    "import numpy as np"
   ]
  },
  {
   "cell_type": "code",
   "execution_count": 66,
   "metadata": {},
   "outputs": [],
   "source": [
    "X = np.array([[0, 0], [0, 1], [1, 0], [1, 1]])\n",
    "y = np.array([0, 0, 0, 1])"
   ]
  },
  {
   "cell_type": "code",
   "execution_count": 67,
   "metadata": {},
   "outputs": [],
   "source": [
    "#inicializar el peso y el bias aleatoriamente\n",
    "np.random.seed(42)\n",
    "theta = np.random.randn(3)  # w1, w2, b"
   ]
  },
  {
   "cell_type": "code",
   "execution_count": 68,
   "metadata": {},
   "outputs": [],
   "source": [
    "def sigmoid(z):\n",
    "  return 1 / (1 + np.exp(-z))"
   ]
  },
  {
   "cell_type": "code",
   "execution_count": 69,
   "metadata": {},
   "outputs": [],
   "source": [
    "def cost_function(X, y, theta):\n",
    "  h = sigmoid(np.dot(X, theta))\n",
    "  m = len(y)\n",
    "  cost = (-1/m) * np.sum(y * np.log(h) + (1-y) * np.log(1-h))\n",
    "  return cost"
   ]
  },
  {
   "cell_type": "code",
   "execution_count": 70,
   "metadata": {},
   "outputs": [],
   "source": [
    "def gradient_descent(X, y, theta, learning_rate, num_iterations):\n",
    "  m = len(y)\n",
    "  for i in range(num_iterations):\n",
    "    h = sigmoid(np.dot(X, theta))\n",
    "    gradient = (1/m) * np.dot(X.T, (h - y))\n",
    "    theta -= learning_rate * gradient\n",
    "  return theta"
   ]
  },
  {
   "cell_type": "markdown",
   "metadata": {},
   "source": [
    "## Entrenamiento"
   ]
  },
  {
   "cell_type": "code",
   "execution_count": 71,
   "metadata": {},
   "outputs": [
    {
     "name": "stdout",
     "output_type": "stream",
     "text": [
      "Parámetros finales: [-4.76775157  3.02861466  3.03854258]\n"
     ]
    }
   ],
   "source": [
    "X = np.hstack((np.ones((X.shape[0], 1)), X))\n",
    "\n",
    "# Entrenar el modelo\n",
    "learning_rate = 0.1\n",
    "num_iterations = 1000\n",
    "theta = gradient_descent(X, y, theta, learning_rate, num_iterations)\n",
    "\n",
    "print(\"Parámetros finales:\", theta)"
   ]
  },
  {
   "cell_type": "markdown",
   "metadata": {},
   "source": [
    "## Prediccion"
   ]
  },
  {
   "cell_type": "code",
   "execution_count": 36,
   "metadata": {},
   "outputs": [
    {
     "name": "stdout",
     "output_type": "stream",
     "text": [
      "Probabilidad: 1.0\n"
     ]
    }
   ],
   "source": [
    "def predict(X, theta):\n",
    "  h = sigmoid(np.dot(X, theta))\n",
    "  return np.round(h)\n",
    "\n",
    "                    #[[bias, X1, X2]]\n",
    "new_data = np.array([[1, 0.9, 0.9]])\n",
    "\n",
    "prediction = predict(new_data, theta)\n",
    "probability = prediction[0] \n",
    "print(\"Probabilidad:\", probability)"
   ]
  }
 ],
 "metadata": {
  "kernelspec": {
   "display_name": "Python 3",
   "language": "python",
   "name": "python3"
  },
  "language_info": {
   "codemirror_mode": {
    "name": "ipython",
    "version": 3
   },
   "file_extension": ".py",
   "mimetype": "text/x-python",
   "name": "python",
   "nbconvert_exporter": "python",
   "pygments_lexer": "ipython3",
   "version": "3.10.0"
  }
 },
 "nbformat": 4,
 "nbformat_minor": 2
}
